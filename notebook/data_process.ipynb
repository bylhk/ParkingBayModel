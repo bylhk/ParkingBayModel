{
 "cells": [
  {
   "cell_type": "code",
   "execution_count": 1,
   "metadata": {},
   "outputs": [],
   "source": [
    "import os\n",
    "import sys\n",
    "sys.path.insert(0, os.path.join('..', 'app'))"
   ]
  },
  {
   "cell_type": "code",
   "execution_count": 2,
   "metadata": {},
   "outputs": [],
   "source": [
    "from lib.data import DataObject, geojson2csv, get_heatmap_csv\n",
    "from config.data import *\n",
    "from config.graph import *\n",
    "\n",
    "DATA_DIR = '../app/data'"
   ]
  },
  {
   "cell_type": "code",
   "execution_count": 3,
   "metadata": {},
   "outputs": [],
   "source": [
    "data_obj = DataObject(data_dir=DATA_DIR)"
   ]
  },
  {
   "cell_type": "code",
   "execution_count": 4,
   "metadata": {},
   "outputs": [],
   "source": [
    "geojson2csv(DATA_DIR, G_DATA_NAME, G_DATA_NAME_CSV)"
   ]
  },
  {
   "cell_type": "code",
   "execution_count": 5,
   "metadata": {},
   "outputs": [
    {
     "name": "stderr",
     "output_type": "stream",
     "text": [
      "Warning: Comparing date/datetime/time column to string value, this will lead to string comparison and is unlikely what you want.\n",
      "If this is intended, consider using an explicit cast to silence this warning.\n",
      "Warning: Comparing date/datetime/time column to string value, this will lead to string comparison and is unlikely what you want.\n",
      "If this is intended, consider using an explicit cast to silence this warning.\n"
     ]
    }
   ],
   "source": [
    "get_heatmap_csv(data_obj, DATA_DIR, start_date='2017-01-01', end_date='2017-02-01')"
   ]
  }
 ],
 "metadata": {
  "kernelspec": {
   "display_name": "Python 3.8.10 64-bit",
   "language": "python",
   "name": "python3"
  },
  "language_info": {
   "codemirror_mode": {
    "name": "ipython",
    "version": 3
   },
   "file_extension": ".py",
   "mimetype": "text/x-python",
   "name": "python",
   "nbconvert_exporter": "python",
   "pygments_lexer": "ipython3",
   "version": "3.8.10"
  },
  "orig_nbformat": 4,
  "vscode": {
   "interpreter": {
    "hash": "916dbcbb3f70747c44a77c7bcd40155683ae19c65e1c03b4aa3499c5328201f1"
   }
  }
 },
 "nbformat": 4,
 "nbformat_minor": 2
}
