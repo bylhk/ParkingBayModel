{
 "cells": [
  {
   "cell_type": "code",
   "execution_count": 1,
   "metadata": {},
   "outputs": [],
   "source": [
    "# import os\n",
    "# import sys\n",
    "# sys.path.insert(0, os.path.join('..', 'app'))"
   ]
  },
  {
   "cell_type": "code",
   "execution_count": 2,
   "metadata": {},
   "outputs": [
    {
     "name": "stdout",
     "output_type": "stream",
     "text": [
      "/home/byl/Downloads/Program/Parking/app\n"
     ]
    }
   ],
   "source": [
    "cd ../app"
   ]
  },
  {
   "cell_type": "code",
   "execution_count": 3,
   "metadata": {},
   "outputs": [
    {
     "name": "stdout",
     "output_type": "stream",
     "text": [
      "23/01/10 18:58:10 WARN Utils: Your hostname, byl-i15-7000 resolves to a loopback address: 127.0.1.1; using 192.168.1.239 instead (on interface wlp3s0)\n",
      "23/01/10 18:58:10 WARN Utils: Set SPARK_LOCAL_IP if you need to bind to another address\n"
     ]
    },
    {
     "name": "stderr",
     "output_type": "stream",
     "text": [
      "Setting default log level to \"WARN\".\n",
      "To adjust logging level use sc.setLogLevel(newLevel). For SparkR, use setLogLevel(newLevel).\n"
     ]
    },
    {
     "name": "stdout",
     "output_type": "stream",
     "text": [
      "23/01/10 18:58:10 WARN NativeCodeLoader: Unable to load native-hadoop library for your platform... using builtin-java classes where applicable\n",
      "23/01/10 18:58:11 WARN Utils: Service 'SparkUI' could not bind on port 4040. Attempting port 4041.\n",
      "23/01/10 18:58:14 WARN package: Truncated the string representation of a plan since it was too large. This behavior can be adjusted by setting 'spark.sql.debug.maxToStringFields'.\n"
     ]
    }
   ],
   "source": [
    "from lib.data import ParkingData\n",
    "\n",
    "DATA_DIR = 'data'\n",
    "\n",
    "data_obj = ParkingData(data_dir=DATA_DIR)"
   ]
  },
  {
   "cell_type": "code",
   "execution_count": 4,
   "metadata": {},
   "outputs": [],
   "source": [
    "from config.data import SR_TABLE, BG_TABLE\n",
    "from datetime import datetime"
   ]
  },
  {
   "cell_type": "code",
   "execution_count": 5,
   "metadata": {},
   "outputs": [
    {
     "name": "stderr",
     "output_type": "stream",
     "text": [
      "                                                                                \r"
     ]
    },
    {
     "data": {
      "text/html": [
       "<div>\n",
       "<style scoped>\n",
       "    .dataframe tbody tr th:only-of-type {\n",
       "        vertical-align: middle;\n",
       "    }\n",
       "\n",
       "    .dataframe tbody tr th {\n",
       "        vertical-align: top;\n",
       "    }\n",
       "\n",
       "    .dataframe thead th {\n",
       "        text-align: right;\n",
       "    }\n",
       "</style>\n",
       "<table border=\"1\" class=\"dataframe\">\n",
       "  <thead>\n",
       "    <tr style=\"text-align: right;\">\n",
       "      <th></th>\n",
       "      <th>BayId</th>\n",
       "      <th>OperatingDays</th>\n",
       "      <th>Total</th>\n",
       "      <th>DailyAverage</th>\n",
       "    </tr>\n",
       "  </thead>\n",
       "  <tbody>\n",
       "    <tr>\n",
       "      <th>0</th>\n",
       "      <td>4324</td>\n",
       "      <td>25</td>\n",
       "      <td>3404</td>\n",
       "      <td>136.160000</td>\n",
       "    </tr>\n",
       "    <tr>\n",
       "      <th>1</th>\n",
       "      <td>2287</td>\n",
       "      <td>31</td>\n",
       "      <td>1271</td>\n",
       "      <td>41.000000</td>\n",
       "    </tr>\n",
       "    <tr>\n",
       "      <th>2</th>\n",
       "      <td>4046</td>\n",
       "      <td>30</td>\n",
       "      <td>1141</td>\n",
       "      <td>38.033333</td>\n",
       "    </tr>\n",
       "    <tr>\n",
       "      <th>3</th>\n",
       "      <td>6003</td>\n",
       "      <td>1</td>\n",
       "      <td>36</td>\n",
       "      <td>36.000000</td>\n",
       "    </tr>\n",
       "    <tr>\n",
       "      <th>4</th>\n",
       "      <td>2152</td>\n",
       "      <td>31</td>\n",
       "      <td>995</td>\n",
       "      <td>32.096774</td>\n",
       "    </tr>\n",
       "    <tr>\n",
       "      <th>5</th>\n",
       "      <td>5983</td>\n",
       "      <td>10</td>\n",
       "      <td>303</td>\n",
       "      <td>30.300000</td>\n",
       "    </tr>\n",
       "    <tr>\n",
       "      <th>6</th>\n",
       "      <td>6004</td>\n",
       "      <td>32</td>\n",
       "      <td>904</td>\n",
       "      <td>28.250000</td>\n",
       "    </tr>\n",
       "    <tr>\n",
       "      <th>7</th>\n",
       "      <td>2674</td>\n",
       "      <td>30</td>\n",
       "      <td>834</td>\n",
       "      <td>27.800000</td>\n",
       "    </tr>\n",
       "    <tr>\n",
       "      <th>8</th>\n",
       "      <td>2144</td>\n",
       "      <td>31</td>\n",
       "      <td>846</td>\n",
       "      <td>27.290323</td>\n",
       "    </tr>\n",
       "    <tr>\n",
       "      <th>9</th>\n",
       "      <td>1762</td>\n",
       "      <td>30</td>\n",
       "      <td>727</td>\n",
       "      <td>24.233333</td>\n",
       "    </tr>\n",
       "  </tbody>\n",
       "</table>\n",
       "</div>"
      ],
      "text/plain": [
       "   BayId  OperatingDays  Total  DailyAverage\n",
       "0   4324             25   3404    136.160000\n",
       "1   2287             31   1271     41.000000\n",
       "2   4046             30   1141     38.033333\n",
       "3   6003              1     36     36.000000\n",
       "4   2152             31    995     32.096774\n",
       "5   5983             10    303     30.300000\n",
       "6   6004             32    904     28.250000\n",
       "7   2674             30    834     27.800000\n",
       "8   2144             31    846     27.290323\n",
       "9   1762             30    727     24.233333"
      ]
     },
     "execution_count": 5,
     "metadata": {},
     "output_type": "execute_result"
    }
   ],
   "source": [
    "start_date = datetime(year=2020, month=4, day=1)\n",
    "end_date = datetime(year=2020, month=4, day=30)\n",
    "target_col = 'VehiclePresent'  # InViolation, VehiclePresent\n",
    "order_col = 'DailyAverage'  # Total, DailyAverage\n",
    "top_n = 10\n",
    "\n",
    "TOPN_QUERY = \"\"\"\n",
    "SELECT \n",
    "       BayId\n",
    "     , DATEDIFF(MAX(DepartureTime), MIN(ArrivalTime))+1 AS OperatingDays\n",
    "     , SUM({target_col}) AS Total\n",
    "     , SUM({target_col}) / (DATEDIFF(MAX(DepartureTime), MIN(ArrivalTime))+1) AS DailyAverage\n",
    "FROM {table}\n",
    "WHERE {target_col} = 1\n",
    "  AND CAST(DepartureTime AS DATE) >= DATE('{start_date}')\n",
    "  AND CAST(ArrivalTime AS DATE) <= DATE('{end_date}')\n",
    "GROUP BY BayId\n",
    "ORDER BY {order_col} DESC\n",
    "LIMIT {top_n}\n",
    "\"\"\"\n",
    "\n",
    "data_obj.query(TOPN_QUERY.format(\n",
    "    table=SR_TABLE,\n",
    "    start_date=start_date,\n",
    "    end_date=end_date,\n",
    "    target_col=target_col,\n",
    "    order_col=order_col,\n",
    "    top_n=top_n,\n",
    "))"
   ]
  },
  {
   "cell_type": "code",
   "execution_count": 6,
   "metadata": {},
   "outputs": [
    {
     "name": "stderr",
     "output_type": "stream",
     "text": [
      "                                                                                \r"
     ]
    },
    {
     "data": {
      "text/html": [
       "<div>\n",
       "<style scoped>\n",
       "    .dataframe tbody tr th:only-of-type {\n",
       "        vertical-align: middle;\n",
       "    }\n",
       "\n",
       "    .dataframe tbody tr th {\n",
       "        vertical-align: top;\n",
       "    }\n",
       "\n",
       "    .dataframe thead th {\n",
       "        text-align: right;\n",
       "    }\n",
       "</style>\n",
       "<table border=\"1\" class=\"dataframe\">\n",
       "  <thead>\n",
       "    <tr style=\"text-align: right;\">\n",
       "      <th></th>\n",
       "      <th>BayId</th>\n",
       "      <th>latitude</th>\n",
       "      <th>longitude</th>\n",
       "      <th>total</th>\n",
       "    </tr>\n",
       "  </thead>\n",
       "  <tbody>\n",
       "    <tr>\n",
       "      <th>0</th>\n",
       "      <td>5537</td>\n",
       "      <td>-37.799749</td>\n",
       "      <td>144.944601</td>\n",
       "      <td>170</td>\n",
       "    </tr>\n",
       "    <tr>\n",
       "      <th>1</th>\n",
       "      <td>5902</td>\n",
       "      <td>-37.803749</td>\n",
       "      <td>144.909310</td>\n",
       "      <td>47</td>\n",
       "    </tr>\n",
       "    <tr>\n",
       "      <th>2</th>\n",
       "      <td>5510</td>\n",
       "      <td>-37.841137</td>\n",
       "      <td>144.978510</td>\n",
       "      <td>64</td>\n",
       "    </tr>\n",
       "    <tr>\n",
       "      <th>3</th>\n",
       "      <td>5144</td>\n",
       "      <td>-37.810245</td>\n",
       "      <td>144.945769</td>\n",
       "      <td>27</td>\n",
       "    </tr>\n",
       "    <tr>\n",
       "      <th>4</th>\n",
       "      <td>5092</td>\n",
       "      <td>-37.841144</td>\n",
       "      <td>144.978480</td>\n",
       "      <td>12</td>\n",
       "    </tr>\n",
       "    <tr>\n",
       "      <th>...</th>\n",
       "      <td>...</td>\n",
       "      <td>...</td>\n",
       "      <td>...</td>\n",
       "      <td>...</td>\n",
       "    </tr>\n",
       "    <tr>\n",
       "      <th>1256</th>\n",
       "      <td>8797</td>\n",
       "      <td>-37.813393</td>\n",
       "      <td>144.954666</td>\n",
       "      <td>1</td>\n",
       "    </tr>\n",
       "    <tr>\n",
       "      <th>1257</th>\n",
       "      <td>3802</td>\n",
       "      <td>-37.791829</td>\n",
       "      <td>144.921716</td>\n",
       "      <td>105</td>\n",
       "    </tr>\n",
       "    <tr>\n",
       "      <th>1258</th>\n",
       "      <td>2530</td>\n",
       "      <td>-37.796193</td>\n",
       "      <td>144.974138</td>\n",
       "      <td>120</td>\n",
       "    </tr>\n",
       "    <tr>\n",
       "      <th>1259</th>\n",
       "      <td>4390</td>\n",
       "      <td>-37.811286</td>\n",
       "      <td>144.945704</td>\n",
       "      <td>65</td>\n",
       "    </tr>\n",
       "    <tr>\n",
       "      <th>1260</th>\n",
       "      <td>3877</td>\n",
       "      <td>-37.825691</td>\n",
       "      <td>144.904510</td>\n",
       "      <td>24</td>\n",
       "    </tr>\n",
       "  </tbody>\n",
       "</table>\n",
       "<p>1261 rows × 4 columns</p>\n",
       "</div>"
      ],
      "text/plain": [
       "      BayId   latitude   longitude  total\n",
       "0      5537 -37.799749  144.944601    170\n",
       "1      5902 -37.803749  144.909310     47\n",
       "2      5510 -37.841137  144.978510     64\n",
       "3      5144 -37.810245  144.945769     27\n",
       "4      5092 -37.841144  144.978480     12\n",
       "...     ...        ...         ...    ...\n",
       "1256   8797 -37.813393  144.954666      1\n",
       "1257   3802 -37.791829  144.921716    105\n",
       "1258   2530 -37.796193  144.974138    120\n",
       "1259   4390 -37.811286  144.945704     65\n",
       "1260   3877 -37.825691  144.904510     24\n",
       "\n",
       "[1261 rows x 4 columns]"
      ]
     },
     "execution_count": 6,
     "metadata": {},
     "output_type": "execute_result"
    }
   ],
   "source": [
    "start_date = datetime(year=2020, month=4, day=1)\n",
    "end_date = datetime(year=2020, month=4, day=30)\n",
    "target_col = 'VehiclePresent'  # InViolation, VehiclePresent\n",
    "\n",
    "HEATMAP_QUERY = \"\"\"\n",
    "SELECT SR.BayId\n",
    "     , BG.latlong[0] AS latitude\n",
    "     , BG.latlong[1] AS longitude\n",
    "     , COUNT(*) AS total\n",
    "FROM {sr_table} SR\n",
    "LEFT JOIN {bg_table} BG\n",
    "    ON SR.BayId = BG.bay_id\n",
    "WHERE ArrivalTime <= '{end_date}'\n",
    "  AND SR.DepartureTime >= '{start_date}'\n",
    "  AND SR.{target_col} = 1\n",
    "GROUP BY SR.BayId\n",
    "       , BG.latlong\n",
    "\"\"\"\n",
    "\n",
    "data_obj.query(HEATMAP_QUERY.format(\n",
    "    sr_table=SR_TABLE,\n",
    "    bg_table=BG_TABLE,\n",
    "    start_date=start_date,\n",
    "    end_date=end_date,\n",
    "    target_col=target_col,\n",
    "))"
   ]
  },
  {
   "cell_type": "code",
   "execution_count": null,
   "metadata": {},
   "outputs": [],
   "source": []
  }
 ],
 "metadata": {
  "kernelspec": {
   "display_name": "Python 3",
   "language": "python",
   "name": "python3"
  },
  "language_info": {
   "codemirror_mode": {
    "name": "ipython",
    "version": 3
   },
   "file_extension": ".py",
   "mimetype": "text/x-python",
   "name": "python",
   "nbconvert_exporter": "python",
   "pygments_lexer": "ipython3",
   "version": "3.10.6"
  },
  "orig_nbformat": 4,
  "vscode": {
   "interpreter": {
    "hash": "e7370f93d1d0cde622a1f8e1c04877d8463912d04d973331ad4851f04de6915a"
   }
  }
 },
 "nbformat": 4,
 "nbformat_minor": 2
}
