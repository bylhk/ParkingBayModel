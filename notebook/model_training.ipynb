{
 "cells": [
  {
   "cell_type": "code",
   "execution_count": 1,
   "metadata": {},
   "outputs": [
    {
     "name": "stdout",
     "output_type": "stream",
     "text": [
      "/home/byl/Downloads/Program/Parking/app\n"
     ]
    }
   ],
   "source": [
    "cd ../app"
   ]
  },
  {
   "cell_type": "code",
   "execution_count": 2,
   "metadata": {},
   "outputs": [
    {
     "name": "stdout",
     "output_type": "stream",
     "text": [
      "23/01/10 19:31:45 WARN Utils: Your hostname, byl-i15-7000 resolves to a loopback address: 127.0.1.1; using 192.168.1.239 instead (on interface wlp3s0)\n",
      "23/01/10 19:31:45 WARN Utils: Set SPARK_LOCAL_IP if you need to bind to another address\n"
     ]
    },
    {
     "name": "stderr",
     "output_type": "stream",
     "text": [
      "Setting default log level to \"WARN\".\n",
      "To adjust logging level use sc.setLogLevel(newLevel). For SparkR, use setLogLevel(newLevel).\n"
     ]
    },
    {
     "name": "stdout",
     "output_type": "stream",
     "text": [
      "23/01/10 19:31:46 WARN NativeCodeLoader: Unable to load native-hadoop library for your platform... using builtin-java classes where applicable\n",
      "23/01/10 19:31:47 WARN Utils: Service 'SparkUI' could not bind on port 4040. Attempting port 4041.\n",
      "23/01/10 19:31:50 WARN package: Truncated the string representation of a plan since it was too large. This behavior can be adjusted by setting 'spark.sql.debug.maxToStringFields'.\n"
     ]
    },
    {
     "name": "stderr",
     "output_type": "stream",
     "text": [
      "                                                                                \r"
     ]
    }
   ],
   "source": [
    "from lib.data import ParkingData\n",
    "from stable_baselines3.common.env_checker import check_env\n",
    "from stable_baselines3 import PPO, DQN\n",
    "\n",
    "DATA_DIR = 'data'\n",
    "\n",
    "data_obj = ParkingData(data_dir=DATA_DIR)"
   ]
  },
  {
   "cell_type": "code",
   "execution_count": 7,
   "metadata": {},
   "outputs": [
    {
     "name": "stdout",
     "output_type": "stream",
     "text": [
      "train {'start': '2020-01-01', 'end': '2020-04-30'}\n"
     ]
    },
    {
     "name": "stderr",
     "output_type": "stream",
     "text": [
      "[Stage 11:>                                                         (0 + 8) / 8]\r"
     ]
    },
    {
     "name": "stdout",
     "output_type": "stream",
     "text": [
      "23/01/10 19:32:13 WARN MemoryManager: Total allocation exceeds 95.00% (1,020,054,720 bytes) of heap memory\n",
      "Scaling row group sizes to 95.00% for 8 writers\n"
     ]
    },
    {
     "name": "stderr",
     "output_type": "stream",
     "text": [
      "                                                                                \r"
     ]
    },
    {
     "name": "stdout",
     "output_type": "stream",
     "text": [
      "test {'start': '2020-05-01', 'end': '2020-05-31'}\n",
      "23/01/10 19:32:36 WARN MemoryManager: Total allocation exceeds 95.00% (1,020,054,720 bytes) of heap memory\n",
      "Scaling row group sizes to 95.00% for 8 writers\n"
     ]
    },
    {
     "name": "stderr",
     "output_type": "stream",
     "text": [
      "                                                                                \r"
     ]
    }
   ],
   "source": [
    "data_obj.write_ml()\n",
    "data_obj.load_ml()"
   ]
  },
  {
   "cell_type": "code",
   "execution_count": 8,
   "metadata": {},
   "outputs": [],
   "source": [
    "import numpy as np\n",
    "import gym\n",
    "from gym import spaces\n",
    "\n",
    "\n",
    "TRUE_POSITIVE_SCORE = 10\n",
    "TRUE_NEGATIVE_SCORE = 1\n",
    "\n",
    "\n",
    "class ParkingEnv(gym.Env):\n",
    "    def __init__(\n",
    "        self,\n",
    "        data_obj,\n",
    "        id_col,\n",
    "        y_col,\n",
    "        x_cols,\n",
    "        x_range,\n",
    "        emb_col,\n",
    "        emb_range,\n",
    "        sample_size=0.01,\n",
    "        key='train',\n",
    "    ):\n",
    "        super(ParkingEnv, self).__init__()\n",
    "\n",
    "        self.data_obj = data_obj\n",
    "        self.id_col = id_col\n",
    "        self.y_col = y_col\n",
    "        self.x_cols = x_cols\n",
    "        self.x_range = x_range\n",
    "        self.emb_col = emb_col\n",
    "        self.emb_range = emb_range\n",
    "        self.obs_size = len(x_cols) + data_obj.emb_size\n",
    "        self.sample_size = sample_size\n",
    "        self.key = key\n",
    "\n",
    "        self.action_space = spaces.Discrete(2)\n",
    "        self.observation_space = spaces.Box(low=np.array([x_range[0] for i in x_cols] + [emb_range[0]] * data_obj.emb_size), \n",
    "                                            high=np.array([x_range[1] for i in x_cols] + [emb_range[1]] * data_obj.emb_size), \n",
    "                                            shape=(self.obs_size,), \n",
    "                                            dtype=np.float64)\n",
    "        self.load_batch()\n",
    "        self.reset()\n",
    "    \n",
    "    def load_batch(self):\n",
    "        self.batch = self.data_obj.sample(key=self.key, sample_size=self.sample_size)\n",
    "\n",
    "    def step(self, action):\n",
    "        if action == self.__hist__():\n",
    "            if action == 1:\n",
    "                reward = TRUE_POSITIVE_SCORE\n",
    "            else:\n",
    "                reward = TRUE_NEGATIVE_SCORE\n",
    "        else:\n",
    "            reward = 0\n",
    "        return self.__obs__(), reward, True, {}\n",
    "\n",
    "    def reset(self):\n",
    "        try:\n",
    "            self.current = self.batch.pop()\n",
    "        except IndexError:\n",
    "            self.load_batch()\n",
    "            self.current = self.batch.pop()\n",
    "        return self.__obs__()\n",
    "\n",
    "    def __obs__(self):\n",
    "        return np.array([self.current[col] for col in self.x_cols] + self.current[self.emb_col])\n",
    "\n",
    "    def __hist__(self):\n",
    "        return self.current[self.y_col]\n"
   ]
  },
  {
   "cell_type": "code",
   "execution_count": 9,
   "metadata": {},
   "outputs": [
    {
     "name": "stderr",
     "output_type": "stream",
     "text": [
      "/home/byl/.local/lib/python3.10/site-packages/gym/spaces/box.py:73: UserWarning: \u001b[33mWARN: Box bound precision lowered by casting to float64\u001b[0m\n",
      "  logger.warn(\n",
      "                                                                                \r"
     ]
    }
   ],
   "source": [
    "id_col = 'BayId'\n",
    "y_col = 'InViolation'\n",
    "x_cols = [\n",
    "    'is_holiday',\n",
    "    'WeekDay',\n",
    "    'no_br_record',\n",
    "    'EffectiveOnPH',\n",
    "    'LogDuration',\n",
    "    'LogDisabilityExt',\n",
    "    'loading_zone',\n",
    "    'disabled',\n",
    "    'meter',\n",
    "    'clearway',\n",
    "    'no_stopping',\n",
    "    'no_parking',\n",
    "    'ticket',\n",
    "    'letter_p',\n",
    "    'exempt_other',\n",
    "    'exempt_resident',\n",
    "    'exempt_disable',\n",
    "    'hr_from_start',\n",
    "    'hr_to_end',\n",
    "    'hr',\n",
    "    'VehiclePresent'\n",
    "]\n",
    "x_range = [0, 1]\n",
    "emb_col = 'emb'\n",
    "emb_range = [-7, 7]\n",
    "\n",
    "env = ParkingEnv(\n",
    "    data_obj=data_obj,\n",
    "    id_col=id_col,\n",
    "    y_col=y_col,\n",
    "    x_cols=x_cols,\n",
    "    x_range=x_range,\n",
    "    emb_col=emb_col,\n",
    "    emb_range=emb_range,\n",
    "    key='train'\n",
    ")"
   ]
  },
  {
   "cell_type": "code",
   "execution_count": 10,
   "metadata": {},
   "outputs": [],
   "source": [
    "check_env(env)"
   ]
  },
  {
   "cell_type": "code",
   "execution_count": 12,
   "metadata": {},
   "outputs": [
    {
     "name": "stderr",
     "output_type": "stream",
     "text": [
      "                                                                                \r"
     ]
    },
    {
     "data": {
      "text/plain": [
       "<stable_baselines3.ppo.ppo.PPO at 0x7fa23a3a3130>"
      ]
     },
     "execution_count": 12,
     "metadata": {},
     "output_type": "execute_result"
    }
   ],
   "source": [
    "model = PPO(\n",
    "    \"MlpPolicy\", \n",
    "    env, \n",
    "    verbose=0,\n",
    "    tensorboard_log='tmp/tensorboard/ppo'\n",
    ")\n",
    "model.learn(total_timesteps=10_000)"
   ]
  },
  {
   "cell_type": "code",
   "execution_count": null,
   "metadata": {},
   "outputs": [],
   "source": [
    "# model = DQN(\n",
    "#     \"MlpPolicy\", \n",
    "#     env, \n",
    "#     verbose=0,\n",
    "#     tensorboard_log='tmp/tensorboard/dqn'\n",
    "# )\n",
    "# model.learn(total_timesteps=2_000_000)"
   ]
  },
  {
   "cell_type": "code",
   "execution_count": null,
   "metadata": {},
   "outputs": [],
   "source": [
    "# model.save('model_10_1_2M')"
   ]
  },
  {
   "cell_type": "code",
   "execution_count": 13,
   "metadata": {},
   "outputs": [
    {
     "name": "stderr",
     "output_type": "stream",
     "text": [
      "/home/byl/.local/lib/python3.10/site-packages/gym/spaces/box.py:73: UserWarning: \u001b[33mWARN: Box bound precision lowered by casting to float64\u001b[0m\n",
      "  logger.warn(\n"
     ]
    }
   ],
   "source": [
    "eval_env = ParkingEnv(\n",
    "    data_obj=data_obj,\n",
    "    id_col=id_col,\n",
    "    y_col=y_col,\n",
    "    x_cols=x_cols,\n",
    "    x_range=x_range,\n",
    "    emb_col=emb_col,\n",
    "    emb_range=emb_range,\n",
    "    key='test'\n",
    ")"
   ]
  },
  {
   "cell_type": "code",
   "execution_count": 14,
   "metadata": {},
   "outputs": [
    {
     "name": "stderr",
     "output_type": "stream",
     "text": [
      "                                                                                \r"
     ]
    },
    {
     "name": "stdout",
     "output_type": "stream",
     "text": [
      "1.0099\n",
      "0.0438\n"
     ]
    }
   ],
   "source": [
    "rewards = []\n",
    "actions = []\n",
    "for i in range(10_000):\n",
    "    obs = eval_env.reset()\n",
    "    action = model.predict(obs, deterministic=True)[0]\n",
    "    obs, reward, done, info = eval_env.step(action)\n",
    "    if done == True:\n",
    "        obs = eval_env.reset()\n",
    "    \n",
    "    rewards.append(reward)\n",
    "    actions.append(action)\n",
    "rewards = np.array(rewards)\n",
    "actions = np.array(actions)\n",
    "print(np.mean(rewards))\n",
    "print(np.mean(actions))"
   ]
  },
  {
   "cell_type": "code",
   "execution_count": 15,
   "metadata": {},
   "outputs": [
    {
     "name": "stdout",
     "output_type": "stream",
     "text": [
      "action = 1, reward = 1, 115\n",
      "action = 1, reward = 0, 323\n",
      "action = 0, reward = 1, 8949\n",
      "action = 0, reward = 0, 613\n"
     ]
    }
   ],
   "source": [
    "print('action = 1, reward = 1,', (rewards[actions==1]>0).sum())\n",
    "print('action = 1, reward = 0,', (actions==1).sum() - (rewards[actions==1]>0).sum())\n",
    "print('action = 0, reward = 1,', (rewards[actions==0]>0).sum())\n",
    "print('action = 0, reward = 0,', (actions==0).sum() - (rewards[actions==0]>0).sum())"
   ]
  }
 ],
 "metadata": {
  "kernelspec": {
   "display_name": "Python 3",
   "language": "python",
   "name": "python3"
  },
  "language_info": {
   "codemirror_mode": {
    "name": "ipython",
    "version": 3
   },
   "file_extension": ".py",
   "mimetype": "text/x-python",
   "name": "python",
   "nbconvert_exporter": "python",
   "pygments_lexer": "ipython3",
   "version": "3.10.6"
  },
  "orig_nbformat": 4,
  "vscode": {
   "interpreter": {
    "hash": "e7370f93d1d0cde622a1f8e1c04877d8463912d04d973331ad4851f04de6915a"
   }
  }
 },
 "nbformat": 4,
 "nbformat_minor": 2
}
