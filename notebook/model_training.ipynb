{
 "cells": [
  {
   "cell_type": "code",
   "execution_count": 1,
   "metadata": {},
   "outputs": [],
   "source": [
    "# import os\n",
    "# import sys\n",
    "# sys.path.insert(0, os.path.join('..', 'app'))"
   ]
  },
  {
   "cell_type": "code",
   "execution_count": 1,
   "metadata": {},
   "outputs": [
    {
     "name": "stdout",
     "output_type": "stream",
     "text": [
      "/home/din15/Downloads/Program/Parking/app\n"
     ]
    }
   ],
   "source": [
    "cd ../app"
   ]
  },
  {
   "cell_type": "code",
   "execution_count": 2,
   "metadata": {},
   "outputs": [
    {
     "name": "stderr",
     "output_type": "stream",
     "text": [
      "/home/din15/.local/lib/python3.8/site-packages/scipy/__init__.py:146: UserWarning: A NumPy version >=1.16.5 and <1.23.0 is required for this version of SciPy (detected version 1.23.4\n",
      "  warnings.warn(f\"A NumPy version >={np_minversion} and <{np_maxversion}\"\n",
      "22/12/12 22:43:58 WARN Utils: Your hostname, din15 resolves to a loopback address: 127.0.1.1; using 192.168.1.239 instead (on interface wlp3s0)\n",
      "22/12/12 22:43:58 WARN Utils: Set SPARK_LOCAL_IP if you need to bind to another address\n",
      "WARNING: An illegal reflective access operation has occurred\n",
      "WARNING: Illegal reflective access by org.apache.spark.unsafe.Platform (file:/home/din15/Libraries/spark-3.2.1-bin-hadoop3.2/jars/spark-unsafe_2.12-3.2.1.jar) to constructor java.nio.DirectByteBuffer(long,int)\n",
      "WARNING: Please consider reporting this to the maintainers of org.apache.spark.unsafe.Platform\n",
      "WARNING: Use --illegal-access=warn to enable warnings of further illegal reflective access operations\n",
      "WARNING: All illegal access operations will be denied in a future release\n",
      "Using Spark's default log4j profile: org/apache/spark/log4j-defaults.properties\n",
      "Setting default log level to \"WARN\".\n",
      "To adjust logging level use sc.setLogLevel(newLevel). For SparkR, use setLogLevel(newLevel).\n",
      "22/12/12 22:43:59 WARN NativeCodeLoader: Unable to load native-hadoop library for your platform... using builtin-java classes where applicable\n",
      "22/12/12 22:44:03 WARN package: Truncated the string representation of a plan since it was too large. This behavior can be adjusted by setting 'spark.sql.debug.maxToStringFields'.\n"
     ]
    }
   ],
   "source": [
    "import os\n",
    "from lib.data import ParkingData\n",
    "\n",
    "DATA_DIR = 'data'\n",
    "\n",
    "data_obj = ParkingData(data_dir=DATA_DIR)"
   ]
  },
  {
   "cell_type": "code",
   "execution_count": 3,
   "metadata": {},
   "outputs": [],
   "source": [
    "# data_obj.write_ml()\n",
    "data_obj.load_ml()"
   ]
  },
  {
   "cell_type": "code",
   "execution_count": 4,
   "metadata": {},
   "outputs": [
    {
     "name": "stderr",
     "output_type": "stream",
     "text": [
      "                                                                                \r"
     ]
    }
   ],
   "source": [
    "train_sample = data_obj.train_data.sample(0.01).collect()\n",
    "test_sample = data_obj.test_data.sample(0.01).collect()"
   ]
  },
  {
   "cell_type": "code",
   "execution_count": 4,
   "metadata": {},
   "outputs": [],
   "source": [
    "import numpy as np"
   ]
  },
  {
   "cell_type": "code",
   "execution_count": 30,
   "metadata": {},
   "outputs": [
    {
     "name": "stdout",
     "output_type": "stream",
     "text": [
      "+------------------+-------------------+-------------------+-------------------+\n",
      "|         hr_to_end|          hr_to_end|          StartTime|      DepartureTime|\n",
      "+------------------+-------------------+-------------------+-------------------+\n",
      "|3.5755555555555554| 2.7066666666666666|1970-01-01 10:00:00|2020-04-28 12:42:24|\n",
      "|              null|               null|               null|2020-04-16 22:48:27|\n",
      "|              null|               null|               null|2020-04-19 12:35:59|\n",
      "|              null|               null|               null|2020-04-20 07:01:44|\n",
      "|               0.0|                4.5|1970-01-01 16:00:00|2020-04-14 20:30:00|\n",
      "|              null|               null|               null|2020-04-09 17:11:20|\n",
      "|              null|               null|               null|2020-04-22 20:30:00|\n",
      "|            5.8875|0.12083333333333333|1970-01-01 10:00:00|2020-03-27 10:07:15|\n",
      "|              null|               null|               null|2020-04-06 20:30:00|\n",
      "|              null|               null|               null|2020-04-06 07:01:36|\n",
      "|              null|               null|               null|2020-04-18 21:51:57|\n",
      "|              null|               null|               null|2020-03-30 07:06:30|\n",
      "|              null|               null|               null|2020-04-22 00:00:00|\n",
      "|              null|               null|               null|2020-04-06 07:30:00|\n",
      "|0.5302777777777777|               11.0|1970-01-01 07:30:00|2020-03-27 18:30:00|\n",
      "|              null|               null|               null|2020-04-26 22:38:56|\n",
      "|1.3072222222222223|              2.295|1970-01-01 20:30:00|2020-03-25 22:47:42|\n",
      "| 6.372222222222222|              6.635|1970-01-01 07:30:00|2020-03-31 14:08:06|\n",
      "|              null|               null|               null|2020-04-07 11:15:44|\n",
      "|              null|               null|               null|2020-04-29 19:24:25|\n",
      "+------------------+-------------------+-------------------+-------------------+\n",
      "only showing top 20 rows\n",
      "\n"
     ]
    }
   ],
   "source": [
    "# Data Preprossing\n",
    "# DurationMinutes       CASE WHEN DurationMinutes IS NULL THEN 0 ELSE LOG(DurationMinutes+1) END    ; MAX=12 \n",
    "# TimeDiff from start\n",
    "# TimeDiff to end\n",
    "# Duration              CASE WHEN Duration IS NULL THEN 0 ELSE LOG(Duration+1) END                  ; MAX=7\n",
    "# DisabilityExt         CASE WHEN DisabilityExt IS NULL THEN 0 ELSE LOG(DisabilityExt+1) END        ; MAX=6\n",
    "df = data_obj.query(\"\"\"\n",
    "SELECT (CAST(EndTime AS LONG) - CAST(TO_TIMESTAMP(DATE_FORMAT(ArrivalTime, \"HH:mm:ss\"), \"HH:mm:ss\") AS LONG)) /3600 AS hr_to_end\n",
    "     , (CAST(TO_TIMESTAMP(DATE_FORMAT(DepartureTime, \"HH:mm:ss\"), \"HH:mm:ss\") AS LONG) - CAST(StartTime AS LONG)) /3600 AS hr_from_start\n",
    "     , StartTime , DepartureTime\n",
    "FROM train\n",
    "\n",
    "\"\"\", df=False).show()\n"
   ]
  },
  {
   "cell_type": "code",
   "execution_count": null,
   "metadata": {},
   "outputs": [
    {
     "data": {
      "text/html": [
       "<div>\n",
       "<style scoped>\n",
       "    .dataframe tbody tr th:only-of-type {\n",
       "        vertical-align: middle;\n",
       "    }\n",
       "\n",
       "    .dataframe tbody tr th {\n",
       "        vertical-align: top;\n",
       "    }\n",
       "\n",
       "    .dataframe thead th {\n",
       "        text-align: right;\n",
       "    }\n",
       "</style>\n",
       "<table border=\"1\" class=\"dataframe\">\n",
       "  <thead>\n",
       "    <tr style=\"text-align: right;\">\n",
       "      <th></th>\n",
       "      <th>LogDisabilityExt</th>\n",
       "    </tr>\n",
       "  </thead>\n",
       "  <tbody>\n",
       "    <tr>\n",
       "      <th>0</th>\n",
       "      <td>5.484797</td>\n",
       "    </tr>\n",
       "    <tr>\n",
       "      <th>1</th>\n",
       "      <td>NaN</td>\n",
       "    </tr>\n",
       "    <tr>\n",
       "      <th>2</th>\n",
       "      <td>NaN</td>\n",
       "    </tr>\n",
       "    <tr>\n",
       "      <th>3</th>\n",
       "      <td>NaN</td>\n",
       "    </tr>\n",
       "    <tr>\n",
       "      <th>4</th>\n",
       "      <td>0.000000</td>\n",
       "    </tr>\n",
       "    <tr>\n",
       "      <th>...</th>\n",
       "      <td>...</td>\n",
       "    </tr>\n",
       "    <tr>\n",
       "      <th>3187867</th>\n",
       "      <td>6.175867</td>\n",
       "    </tr>\n",
       "    <tr>\n",
       "      <th>3187868</th>\n",
       "      <td>NaN</td>\n",
       "    </tr>\n",
       "    <tr>\n",
       "      <th>3187869</th>\n",
       "      <td>4.795791</td>\n",
       "    </tr>\n",
       "    <tr>\n",
       "      <th>3187870</th>\n",
       "      <td>4.795791</td>\n",
       "    </tr>\n",
       "    <tr>\n",
       "      <th>3187871</th>\n",
       "      <td>NaN</td>\n",
       "    </tr>\n",
       "  </tbody>\n",
       "</table>\n",
       "<p>3187872 rows × 1 columns</p>\n",
       "</div>"
      ],
      "text/plain": [
       "         LogDisabilityExt\n",
       "0                5.484797\n",
       "1                     NaN\n",
       "2                     NaN\n",
       "3                     NaN\n",
       "4                0.000000\n",
       "...                   ...\n",
       "3187867          6.175867\n",
       "3187868               NaN\n",
       "3187869          4.795791\n",
       "3187870          4.795791\n",
       "3187871               NaN\n",
       "\n",
       "[3187872 rows x 1 columns]"
      ]
     },
     "execution_count": 19,
     "metadata": {},
     "output_type": "execute_result"
    }
   ],
   "source": [
    "df"
   ]
  },
  {
   "cell_type": "code",
   "execution_count": null,
   "metadata": {},
   "outputs": [
    {
     "data": {
      "text/plain": [
       "array([[<AxesSubplot:title={'center':'LogDisabilityExt'}>]], dtype=object)"
      ]
     },
     "execution_count": 20,
     "metadata": {},
     "output_type": "execute_result"
    },
    {
     "data": {
      "image/png": "[encoded data removed]",
      "text/plain": [
       "<Figure size 432x288 with 1 Axes>"
      ]
     },
     "metadata": {
      "needs_background": "light"
     },
     "output_type": "display_data"
    }
   ],
   "source": [
    "df.hist(bins=20)"
   ]
  },
  {
   "cell_type": "code",
   "execution_count": 9,
   "metadata": {},
   "outputs": [
    {
     "name": "stdout",
     "output_type": "stream",
     "text": [
      "+-----+-------------------+-------------------+---------------+-----------+--------------+----------+-------+------------+-------------------+-------------------+--------+-------------+-------------+------------+--------+-----+--------+-----------+----------+------+--------+------------+---------------+--------------+\n",
      "|BayId|        ArrivalTime|      DepartureTime|DurationMinutes|InViolation|VehiclePresent|is_holiday|WeekDay|no_br_record|          StartTime|            EndTime|Duration|EffectiveOnPH|DisabilityExt|loading_zone|disabled|meter|clearway|no_stopping|no_parking|ticket|letter_p|exempt_other|exempt_resident|exempt_disable|\n",
      "+-----+-------------------+-------------------+---------------+-----------+--------------+----------+-------+------------+-------------------+-------------------+--------+-------------+-------------+------------+--------+-----+--------+-----------+----------+------+--------+------------+---------------+--------------+\n",
      "| 1200|2020-04-28 12:25:28|2020-04-28 12:42:24|             17|          0|             0|         0|      2|           0|1970-01-01 10:00:00|1970-01-01 16:00:00|     120|            0|          240|           0|       0|    1|       0|          0|         0|     0|       1|           0|              0|             0|\n",
      "|  978|2020-04-16 21:58:18|2020-04-16 22:48:27|             50|          0|             0|         0|      4|           1|               null|               null|    null|         null|         null|           0|       0|    0|       0|          0|         0|     0|       0|           0|              0|             0|\n",
      "|  978|2020-04-19 12:04:55|2020-04-19 12:35:59|             31|          0|             0|         0|      0|           1|               null|               null|    null|         null|         null|           0|       0|    0|       0|          0|         0|     0|       0|           0|              0|             0|\n",
      "|  708|2020-04-20 07:01:36|2020-04-20 07:01:44|              0|          0|             0|         0|      1|           1|               null|               null|    null|         null|         null|           0|       0|    0|       0|          0|         0|     0|       0|           0|              0|             0|\n",
      "| 1294|2020-04-14 19:00:00|2020-04-14 20:30:00|             90|          0|             0|         0|      2|           0|1970-01-01 16:00:00|1970-01-01 19:00:00|       0|            0|            0|           0|       0|    0|       1|          0|         0|     0|       0|           0|              0|             0|\n",
      "|  708|2020-04-09 09:11:13|2020-04-09 17:11:20|            480|          1|             1|         0|      4|           1|               null|               null|    null|         null|         null|           0|       0|    0|       0|          0|         0|     0|       0|           0|              0|             0|\n",
      "|  976|2020-04-22 20:17:32|2020-04-22 20:30:00|             13|          0|             1|         0|      3|           1|               null|               null|    null|         null|         null|           0|       0|    0|       0|          0|         0|     0|       0|           0|              0|             0|\n",
      "| 1290|2020-03-27 10:06:45|2020-03-27 10:07:15|              1|          0|             1|         0|      5|           0|1970-01-01 10:00:00|1970-01-01 16:00:00|     120|            0|          240|           0|       0|    1|       0|          0|         0|     0|       1|           0|              0|             0|\n",
      "|  708|2020-04-06 18:24:02|2020-04-06 20:30:00|            126|          0|             0|         0|      1|           1|               null|               null|    null|         null|         null|           0|       0|    0|       0|          0|         0|     0|       0|           0|              0|             0|\n",
      "| 1828|2020-04-06 00:00:00|2020-04-06 07:01:36|            421|          0|             0|         0|      1|           1|               null|               null|    null|         null|         null|           0|       0|    0|       0|          0|         0|     0|       0|           0|              0|             0|\n",
      "|  708|2020-04-18 21:51:39|2020-04-18 21:51:57|              0|          0|             1|         0|      6|           1|               null|               null|    null|         null|         null|           0|       0|    0|       0|          0|         0|     0|       0|           0|              0|             0|\n",
      "| 1200|2020-03-30 07:06:12|2020-03-30 07:06:30|              0|          0|             1|         0|      1|           0|               null|               null|    null|         null|         null|           0|       0|    0|       0|          0|         0|     0|       0|           0|              0|             0|\n",
      "| 6144|2020-04-21 21:41:26|2020-04-22 00:00:00|            139|          0|             0|         0|      2|           0|               null|               null|    null|         null|         null|           0|       0|    0|       0|          0|         0|     0|       0|           0|              0|             0|\n",
      "| 1828|2020-04-06 07:01:36|2020-04-06 07:30:00|             29|          0|             1|         0|      1|           1|               null|               null|    null|         null|         null|           0|       0|    0|       0|          0|         0|     0|       0|           0|              0|             0|\n",
      "| 6144|2020-03-27 17:58:11|2020-03-27 18:30:00|             32|          0|             1|         0|      5|           0|1970-01-01 07:30:00|1970-01-01 18:30:00|     120|            0|          240|           0|       0|    1|       0|          0|         0|     0|       1|           0|              0|             0|\n",
      "|  978|2020-04-26 22:36:52|2020-04-26 22:38:56|              2|          0|             1|         0|      0|           1|               null|               null|    null|         null|         null|           0|       0|    0|       0|          0|         0|     0|       0|           0|              0|             0|\n",
      "| 1672|2020-03-25 22:41:33|2020-03-25 22:47:42|              6|          0|             1|         0|      3|           0|1970-01-01 20:30:00|1970-01-01 23:59:59|    1440|            1|            0|           0|       1|    0|       0|          0|         0|     0|       0|           0|              0|             0|\n",
      "| 1672|2020-03-31 14:07:40|2020-03-31 14:08:06|              1|          0|             1|         0|      2|           0|1970-01-01 07:30:00|1970-01-01 20:30:00|     120|            1|            0|           0|       1|    0|       0|          0|         0|     0|       1|           0|              0|             0|\n",
      "|  708|2020-04-07 11:15:22|2020-04-07 11:15:44|              0|          0|             1|         0|      2|           1|               null|               null|    null|         null|         null|           0|       0|    0|       0|          0|         0|     0|       0|           0|              0|             0|\n",
      "|  976|2020-04-29 19:21:04|2020-04-29 19:24:25|              3|          0|             1|         0|      3|           1|               null|               null|    null|         null|         null|           0|       0|    0|       0|          0|         0|     0|       0|           0|              0|             0|\n",
      "+-----+-------------------+-------------------+---------------+-----------+--------------+----------+-------+------------+-------------------+-------------------+--------+-------------+-------------+------------+--------+-----+--------+-----------+----------+------+--------+------------+---------------+--------------+\n",
      "only showing top 20 rows\n",
      "\n"
     ]
    }
   ],
   "source": [
    "data_obj.train_data.show()"
   ]
  },
  {
   "cell_type": "code",
   "execution_count": 7,
   "metadata": {},
   "outputs": [],
   "source": [
    "from stable_baselines3.common.env_checker import check_env\n",
    "from stable_baselines3 import PPO"
   ]
  },
  {
   "cell_type": "code",
   "execution_count": null,
   "metadata": {},
   "outputs": [],
   "source": [
    "import gym\n",
    "from gym import spaces\n",
    "\n",
    "class ParkingEnv(gym.Env):\n",
    "  \"\"\"Custom Environment that follows gym interface\"\"\"\n",
    "  metadata = {'render.modes': ['human']}\n",
    "\n",
    "  def __init__(self, data_obj, model='train'):\n",
    "    super(ParkingEnv, self).__init__()\n",
    "    # Define action and observation space\n",
    "    # They must be gym.spaces objects\n",
    "    # Example when using discrete actions:\n",
    "    self.action_space = spaces.Discrete(2)\n",
    "    # Example for using image as input:\n",
    "    self.observation_space = spaces.Box(low=0, high=255,\n",
    "                                        shape=(HEIGHT, WIDTH, N_CHANNELS), dtype=np.uint8)\n",
    "\n",
    "  def step(self, action):\n",
    "    ...\n",
    "    return observation, reward, done, info\n",
    "\n",
    "  def reset(self):\n",
    "    ...\n",
    "    return observation  # reward, done, info can't be included\n",
    "\n",
    "  def render(self, mode='human'):\n",
    "    ...\n",
    "\n",
    "  def close (self):\n",
    "    ..."
   ]
  },
  {
   "cell_type": "code",
   "execution_count": null,
   "metadata": {},
   "outputs": [],
   "source": []
  },
  {
   "cell_type": "code",
   "execution_count": null,
   "metadata": {},
   "outputs": [],
   "source": []
  },
  {
   "cell_type": "code",
   "execution_count": null,
   "metadata": {},
   "outputs": [],
   "source": []
  },
  {
   "cell_type": "code",
   "execution_count": null,
   "metadata": {},
   "outputs": [],
   "source": []
  },
  {
   "cell_type": "code",
   "execution_count": null,
   "metadata": {},
   "outputs": [],
   "source": []
  },
  {
   "cell_type": "code",
   "execution_count": null,
   "metadata": {},
   "outputs": [],
   "source": []
  }
 ],
 "metadata": {
  "kernelspec": {
   "display_name": "Python 3.8.10 64-bit",
   "language": "python",
   "name": "python3"
  },
  "language_info": {
   "codemirror_mode": {
    "name": "ipython",
    "version": 3
   },
   "file_extension": ".py",
   "mimetype": "text/x-python",
   "name": "python",
   "nbconvert_exporter": "python",
   "pygments_lexer": "ipython3",
   "version": "3.8.10"
  },
  "orig_nbformat": 4,
  "vscode": {
   "interpreter": {
    "hash": "916dbcbb3f70747c44a77c7bcd40155683ae19c65e1c03b4aa3499c5328201f1"
   }
  }
 },
 "nbformat": 4,
 "nbformat_minor": 2
}
