{
 "cells": [
  {
   "cell_type": "code",
   "execution_count": 1,
   "metadata": {},
   "outputs": [],
   "source": [
    "# import os\n",
    "# import sys\n",
    "# sys.path.insert(0, os.path.join('..', 'app'))"
   ]
  },
  {
   "cell_type": "code",
   "execution_count": 1,
   "metadata": {},
   "outputs": [
    {
     "name": "stdout",
     "output_type": "stream",
     "text": [
      "/home/din15/Downloads/Program/Parking/app\n"
     ]
    }
   ],
   "source": [
    "cd ../app"
   ]
  },
  {
   "cell_type": "code",
   "execution_count": 2,
   "metadata": {},
   "outputs": [
    {
     "name": "stderr",
     "output_type": "stream",
     "text": [
      "/home/din15/.local/lib/python3.8/site-packages/scipy/__init__.py:146: UserWarning: A NumPy version >=1.16.5 and <1.23.0 is required for this version of SciPy (detected version 1.23.4\n",
      "  warnings.warn(f\"A NumPy version >={np_minversion} and <{np_maxversion}\"\n",
      "22/12/11 22:39:29 WARN Utils: Your hostname, din15 resolves to a loopback address: 127.0.1.1; using 192.168.1.239 instead (on interface wlp3s0)\n",
      "22/12/11 22:39:29 WARN Utils: Set SPARK_LOCAL_IP if you need to bind to another address\n",
      "WARNING: An illegal reflective access operation has occurred\n",
      "WARNING: Illegal reflective access by org.apache.spark.unsafe.Platform (file:/home/din15/Libraries/spark-3.2.1-bin-hadoop3.2/jars/spark-unsafe_2.12-3.2.1.jar) to constructor java.nio.DirectByteBuffer(long,int)\n",
      "WARNING: Please consider reporting this to the maintainers of org.apache.spark.unsafe.Platform\n",
      "WARNING: Use --illegal-access=warn to enable warnings of further illegal reflective access operations\n",
      "WARNING: All illegal access operations will be denied in a future release\n",
      "Using Spark's default log4j profile: org/apache/spark/log4j-defaults.properties\n",
      "Setting default log level to \"WARN\".\n",
      "To adjust logging level use sc.setLogLevel(newLevel). For SparkR, use setLogLevel(newLevel).\n",
      "22/12/11 22:39:30 WARN NativeCodeLoader: Unable to load native-hadoop library for your platform... using builtin-java classes where applicable\n",
      "22/12/11 22:39:34 WARN package: Truncated the string representation of a plan since it was too large. This behavior can be adjusted by setting 'spark.sql.debug.maxToStringFields'.\n"
     ]
    }
   ],
   "source": [
    "from lib.data import ParkingData\n",
    "\n",
    "DATA_DIR = 'data'\n",
    "\n",
    "data_obj = ParkingData(data_dir=DATA_DIR)"
   ]
  },
  {
   "cell_type": "code",
   "execution_count": 75,
   "metadata": {},
   "outputs": [
    {
     "name": "stdout",
     "output_type": "stream",
     "text": [
      "+-----+-------------------+-------------------+---------------+-----------+--------------+----------+-------+------------+-------------------+-------------------+--------+-------------+-------------+---------+-------------------+------------+--------+-----+--------+-----------+----------+------+--------+\n",
      "|BayId|        ArrivalTime|      DepartureTime|DurationMinutes|InViolation|VehiclePresent|is_holiday|WeekDay|no_br_record|          StartTime|            EndTime|Duration|EffectiveOnPH|DisabilityExt|Exemption|           TypeDesc|loading_zone|disabled|meter|clearway|no_stopping|no_parking|ticket|letter_p|\n",
      "+-----+-------------------+-------------------+---------------+-----------+--------------+----------+-------+------------+-------------------+-------------------+--------+-------------+-------------+---------+-------------------+------------+--------+-----+--------+-----------+----------+------+--------+\n",
      "| 1200|2020-04-28 12:25:28|2020-04-28 12:42:24|             17|          0|             0|         0|      2|           0|1970-01-01 10:00:00|1970-01-01 16:00:00|     120|            0|          240|     null|           2P Meter|           0|       0|    1|       0|          0|         0|     0|       1|\n",
      "|  978|2020-04-16 21:58:18|2020-04-16 22:48:27|             50|          0|             0|         0|      4|           1|               null|               null|    null|         null|         null|     null|               null|           0|       0|    0|       0|          0|         0|     0|       0|\n",
      "|  978|2020-04-19 12:04:55|2020-04-19 12:35:59|             31|          0|             0|         0|      0|           1|               null|               null|    null|         null|         null|     null|               null|           0|       0|    0|       0|          0|         0|     0|       0|\n",
      "|  702|2020-05-24 04:08:51|2020-05-24 09:30:00|            322|          0|             0|         0|      0|           0|1970-01-01 07:30:00|1970-01-01 18:30:00|      60|            0|          120|     null|                 1P|           0|       0|    0|       0|          0|         0|     0|       1|\n",
      "|  708|2020-04-20 07:01:36|2020-04-20 07:01:44|              0|          0|             0|         0|      1|           1|               null|               null|    null|         null|         null|     null|               null|           0|       0|    0|       0|          0|         0|     0|       0|\n",
      "| 1294|2020-04-14 19:00:00|2020-04-14 20:30:00|             90|          0|             0|         0|      2|           0|1970-01-01 16:00:00|1970-01-01 19:00:00|       0|            0|            0|     null|Clearway (Tow away)|           0|       0|    0|       1|          0|         0|     0|       0|\n",
      "|  708|2020-04-09 09:11:13|2020-04-09 17:11:20|            480|          1|             1|         0|      4|           1|               null|               null|    null|         null|         null|     null|               null|           0|       0|    0|       0|          0|         0|     0|       0|\n",
      "|  978|2020-05-14 04:08:26|2020-05-14 07:30:00|            202|          0|             0|         0|      4|           1|               null|               null|    null|         null|         null|     null|               null|           0|       0|    0|       0|          0|         0|     0|       0|\n",
      "|  976|2020-04-22 20:17:32|2020-04-22 20:30:00|             13|          0|             1|         0|      3|           1|               null|               null|    null|         null|         null|     null|               null|           0|       0|    0|       0|          0|         0|     0|       0|\n",
      "| 1290|2020-03-27 10:06:45|2020-03-27 10:07:15|              1|          0|             1|         0|      5|           0|1970-01-01 10:00:00|1970-01-01 16:00:00|     120|            0|          240|     null|           2P Meter|           0|       0|    1|       0|          0|         0|     0|       1|\n",
      "|  978|2020-05-22 17:58:15|2020-05-22 18:12:34|             14|          0|             1|         0|      5|           1|               null|               null|    null|         null|         null|     null|               null|           0|       0|    0|       0|          0|         0|     0|       0|\n",
      "|  708|2020-04-06 18:24:02|2020-04-06 20:30:00|            126|          0|             0|         0|      1|           1|               null|               null|    null|         null|         null|     null|               null|           0|       0|    0|       0|          0|         0|     0|       0|\n",
      "| 1828|2020-04-06 00:00:00|2020-04-06 07:01:36|            421|          0|             0|         0|      1|           1|               null|               null|    null|         null|         null|     null|               null|           0|       0|    0|       0|          0|         0|     0|       0|\n",
      "|  708|2020-04-18 21:51:39|2020-04-18 21:51:57|              0|          0|             1|         0|      6|           1|               null|               null|    null|         null|         null|     null|               null|           0|       0|    0|       0|          0|         0|     0|       0|\n",
      "| 1200|2020-03-30 07:06:12|2020-03-30 07:06:30|              0|          0|             1|         0|      1|           0|               null|               null|    null|         null|         null|     null|               null|           0|       0|    0|       0|          0|         0|     0|       0|\n",
      "| 1200|2020-05-16 20:30:00|2020-05-16 21:54:34|             84|          0|             0|         0|      6|           0|1970-01-01 07:30:00|1970-01-01 20:30:00|     120|            0|          240|     null|           2P Meter|           0|       0|    1|       0|          0|         0|     0|       1|\n",
      "| 6144|2020-04-21 21:41:26|2020-04-22 00:00:00|            139|          0|             0|         0|      2|           0|               null|               null|    null|         null|         null|     null|               null|           0|       0|    0|       0|          0|         0|     0|       0|\n",
      "| 1672|2020-05-20 14:22:22|2020-05-20 14:22:46|              0|          0|             1|         0|      3|           0|1970-01-01 07:30:00|1970-01-01 20:30:00|     120|            1|            0|     null|   2P Disabled Only|           0|       1|    0|       0|          0|         0|     0|       1|\n",
      "| 1828|2020-04-06 07:01:36|2020-04-06 07:30:00|             29|          0|             1|         0|      1|           1|               null|               null|    null|         null|         null|     null|               null|           0|       0|    0|       0|          0|         0|     0|       0|\n",
      "|  976|2020-05-06 18:30:00|2020-05-06 20:30:00|            120|          0|             1|         0|      3|           1|               null|               null|    null|         null|         null|     null|               null|           0|       0|    0|       0|          0|         0|     0|       0|\n",
      "+-----+-------------------+-------------------+---------------+-----------+--------------+----------+-------+------------+-------------------+-------------------+--------+-------------+-------------+---------+-------------------+------------+--------+-----+--------+-----------+----------+------+--------+\n",
      "only showing top 20 rows\n",
      "\n"
     ]
    }
   ],
   "source": [
    "TRAIN_START_DT = '2020-01-01'\n",
    "# TRAIN_END_DT = '2020-04-30'\n",
    "TRAIN_END_DT = '2020-05-31'\n",
    "TEST_START_DT = '2020-05-01'\n",
    "TEST_END_DT = '2020-05-31'\n",
    "\n",
    "EFFECTIVE_SUBQUERY = \"\"\" \n",
    "       WHEN\n",
    "                (   \n",
    "                   (    BR.ToDay{n} >= BR.FromDay{n}\n",
    "                    AND DAYOFWEEK(SR.ArrivalTime)-1 BETWEEN BR.FromDay{n} AND BR.ToDay{n}\n",
    "                    )\n",
    "                OR (    BR.ToDay{n} < BR.FromDay{n}\n",
    "                    AND (   DAYOFWEEK(SR.ArrivalTime)-1 BETWEEN BR.FromDay{n} AND 6\n",
    "                         OR DAYOFWEEK(SR.ArrivalTime)-1 BETWEEN 0 AND BR.ToDay{n}\n",
    "                         )\n",
    "                    )\n",
    "                )\n",
    "          AND FromDay{n} IS NOT NULL\n",
    "          AND (   TO_TIMESTAMP(DATE_FORMAT(SR.ArrivalTime, \"HH:mm:ss\"), \"HH:mm:ss\") BETWEEN StartTime{n} AND CASE WHEN EndTime{n} = TO_TIMESTAMP('00', 'HH') THEN TO_TIMESTAMP('23:59:59', 'HH:mm:ss') ELSE EndTime{n} END\n",
    "               OR TO_TIMESTAMP(DATE_FORMAT(SR.DepartureTime, \"HH:mm:ss\"), \"HH:mm:ss\") BETWEEN StartTime{n} AND CASE WHEN EndTime{n} = TO_TIMESTAMP('00', 'HH') THEN TO_TIMESTAMP('23:59:59', 'HH:mm:ss') ELSE EndTime{n} END)\n",
    "          AND (PH.holiday IS NULL\n",
    "               OR BR.EffectiveOnPH{n} = 1)\n",
    "          THEN BR.{target_col}{n}\n",
    "\"\"\"\n",
    "\n",
    "BR_COL_SUBQUERY = \"\"\"\n",
    "     , CASE  \n",
    "{effective_subquery}\n",
    "       END AS {target_col}\n",
    "\"\"\"\n",
    "\n",
    "_subqueries = []\n",
    "for col in ['StartTime', 'EndTime', 'Duration', 'EffectiveOnPH', 'DisabilityExt', 'Exemption', 'TypeDesc']:  # \n",
    "    _subqueries.append(\n",
    "        BR_COL_SUBQUERY.format(\n",
    "            effective_subquery=''.join([EFFECTIVE_SUBQUERY.format(n=n, target_col=col) for n in range(1, 7)]),\n",
    "            target_col=col\n",
    "        )\n",
    "    )\n",
    "\n",
    "ML_QUERY = \"\"\"\n",
    "SELECT * \n",
    "     , CASE WHEN LOWER(TypeDesc) LIKE '%loading zone%' THEN 1 ELSE 0 END AS loading_zone\n",
    "     , CASE WHEN LOWER(TypeDesc) LIKE '%disabled%' THEN 1 ELSE 0 END AS disabled\n",
    "     , CASE WHEN LOWER(TypeDesc) LIKE '%meter%' THEN 1 ELSE 0 END AS meter\n",
    "     , CASE WHEN LOWER(TypeDesc) LIKE '%clearway%' THEN 1 ELSE 0 END AS clearway\n",
    "     , CASE WHEN LOWER(TypeDesc) LIKE '%no stopping%' THEN 1 ELSE 0 END AS no_stopping\n",
    "     , CASE WHEN LOWER(TypeDesc) LIKE '%no park%' THEN 1 ELSE 0 END AS no_parking\n",
    "     , CASE WHEN LOWER(TypeDesc) LIKE '%ticket%' THEN 1 ELSE 0 END AS ticket\n",
    "     , CASE WHEN LOWER(TypeDesc) LIKE '%p%' AND LOWER(TypeDesc) NOT LIKE '%pp%' THEN 1 ELSE 0 END AS letter_p\n",
    "FROM (\n",
    "\n",
    "\n",
    "SELECT SR.BayId\n",
    "     , SR.ArrivalTime\n",
    "     , SR.DepartureTime\n",
    "     , SR.DurationMinutes\n",
    "     , SR.InViolation\n",
    "     , SR.VehiclePresent\n",
    "     , CASE WHEN PH.holiday IS NULL THEN 0 ELSE 1 END AS is_holiday\n",
    "     , DAYOFWEEK(SR.ArrivalTime)-1 AS WeekDay  -- 1=Sun, 7=Sat  >>  0=Sun, 7=Sat\n",
    "     , CASE WHEN BR.BayId IS NULL THEN 1 ELSE 0 END AS no_br_record\n",
    "{subqueries}\n",
    "FROM sr_table SR\n",
    "LEFT JOIN br_table BR\n",
    "    ON SR.BayId = BR.BayId\n",
    "LEFT JOIN ph_table PH\n",
    "    ON DATE(SR.ArrivalTime) = PH.holiday\n",
    "WHERE DATE(SR.ArrivalTime) BETWEEN DATE('{start_date}') AND DATE('{end_date}')\n",
    "\n",
    "\n",
    ")\n",
    "\"\"\"\n",
    "\n",
    "_query = ML_QUERY.format(\n",
    "    start_date=TRAIN_START_DT,\n",
    "    end_date=TRAIN_END_DT,\n",
    "    subqueries=''.join(_subqueries),\n",
    ")\n",
    "\n",
    "data_obj.query(_query, df=False).show()\n"
   ]
  },
  {
   "cell_type": "code",
   "execution_count": null,
   "metadata": {},
   "outputs": [],
   "source": []
  },
  {
   "cell_type": "code",
   "execution_count": null,
   "metadata": {},
   "outputs": [],
   "source": []
  },
  {
   "cell_type": "code",
   "execution_count": null,
   "metadata": {},
   "outputs": [],
   "source": []
  },
  {
   "cell_type": "code",
   "execution_count": null,
   "metadata": {},
   "outputs": [],
   "source": []
  },
  {
   "cell_type": "code",
   "execution_count": null,
   "metadata": {},
   "outputs": [],
   "source": []
  },
  {
   "cell_type": "code",
   "execution_count": 2,
   "metadata": {},
   "outputs": [],
   "source": [
    "import csv\n",
    "import json\n",
    "import numpy as np\n",
    "import os\n",
    "import polars as pl\n",
    "\n",
    "import glob\n",
    "import pandas as pd\n",
    "from random import randrange\n",
    "from datetime import datetime, timedelta\n",
    "\n",
    "from lib.data import DataObject, load_json\n",
    "from config.data import *\n",
    "from config.graph import *\n",
    "\n",
    "DATA_DIR = '../app/data'"
   ]
  },
  {
   "cell_type": "code",
   "execution_count": 3,
   "metadata": {},
   "outputs": [],
   "source": [
    "data_obj = DataObject(data_dir=DATA_DIR)"
   ]
  },
  {
   "cell_type": "code",
   "execution_count": 4,
   "metadata": {},
   "outputs": [],
   "source": [
    "device_emb = load_json(os.path.join(DATA_DIR, EMB_JSON_NAME))"
   ]
  },
  {
   "cell_type": "code",
   "execution_count": 5,
   "metadata": {},
   "outputs": [],
   "source": [
    "def random_date(start, end):\n",
    "    delta = end + timedelta(days=1) - start\n",
    "    return (start + timedelta(days=randrange(delta.days))).date()\n",
    "\n",
    "def random_time(start, end):\n",
    "    delta = end - start\n",
    "    return (start + timedelta(seconds=randrange(delta.seconds)))\n",
    "\n",
    "def spark_s_data():\n",
    "    from pyspark.sql import SparkSession, functions as f\n",
    "\n",
    "    spark = SparkSession \\\n",
    "        .builder \\\n",
    "        .appName(\"parking\") \\\n",
    "        .getOrCreate()\n",
    "\n",
    "    g_df = spark.read.csv(os.path.join(DATA_DIR, G_DATA_NAME_CSV), header=True)\n",
    "    g_df = g_df.select(f.col('bay_id').alias('BayID')).distinct()\n",
    "\n",
    "    b_df = spark.read.csv(os.path.join(DATA_DIR, B_DATA_NAME), header=True)\n",
    "    b_df = b_df.select(['BayID', 'DeviceID']).distinct()\n",
    "\n",
    "    b_df = b_df.join(g_df, on='BayID', how='inner').select(f.col('DeviceID').alias('DeviceId'))\n",
    "\n",
    "    df = spark.read.csv(os.path.join(DATA_DIR, S_DATA_NAME), header=True)\\\n",
    "            .join(b_df, on='DeviceId', how='inner')\\\n",
    "            .withColumn(\"ArrivalTime\", f.to_timestamp('ArrivalTime', 'MM/dd/yyyy h:m:s a'))\\\n",
    "            .withColumn(\"DepartureTime\", f.to_timestamp('DepartureTime', 'MM/dd/yyyy h:m:s a'))\\\n",
    "            .withColumn(\"ArrivalDate\", f.to_timestamp('DepartureTime', 'MM/dd/yyyy h:m:s a').cast('Date'))\n",
    "    df = df.toDF(*[col.replace(' ', '') for col in df.columns])\n",
    "    df.coalesce(1).write.partitionBy('ArrivalDate').mode('overwrite').format(\"parquet\").save(os.path.join(DATA_DIR, S_DATA_TABLE))\n",
    "\n",
    "# spark_s_data()"
   ]
  },
  {
   "cell_type": "code",
   "execution_count": 6,
   "metadata": {},
   "outputs": [],
   "source": [
    "b_data = pd.read_csv(os.path.join(DATA_DIR, B_DATA_NAME)).set_index('DeviceID').to_dict('index')"
   ]
  },
  {
   "cell_type": "code",
   "execution_count": 7,
   "metadata": {},
   "outputs": [],
   "source": [
    "start = datetime(year=2017, month=1, day=1)\n",
    "end = datetime(year=2017, month=12, day=31)\n",
    "\n",
    "batch_data_path = glob.glob(os.path.join(DATA_DIR, S_DATA_TABLE, f'ArrivalDate={random_date(start, end)}', '*.parquet'))[0]\n",
    "batch_data = pd.read_parquet(batch_data_path)"
   ]
  },
  {
   "cell_type": "code",
   "execution_count": 8,
   "metadata": {},
   "outputs": [],
   "source": [
    "sample_idx = np.random.randint(batch_data.shape[0])\n",
    "sample_data = batch_data.loc[sample_idx, :]\n",
    "sample_dt = random_time(sample_data['ArrivalTime'], sample_data['DepartureTime'])\n",
    "\n",
    "weekday = sample_dt.dayofweek # 0 = Mon, 7 = Sun\n",
    "duration = sample_data['DurationSeconds']\n",
    "device_id = sample_data['DeviceId']\n",
    "\n",
    "is_violation = sample_data['InViolation']\n",
    "is_use = sample_data['VehiclePresent']"
   ]
  },
  {
   "cell_type": "code",
   "execution_count": 9,
   "metadata": {},
   "outputs": [
    {
     "data": {
      "text/plain": [
       "'21867'"
      ]
     },
     "execution_count": 9,
     "metadata": {},
     "output_type": "execute_result"
    }
   ],
   "source": [
    "device_id"
   ]
  },
  {
   "cell_type": "code",
   "execution_count": 31,
   "metadata": {},
   "outputs": [
    {
     "data": {
      "text/plain": [
       "DeviceId                         21867\n",
       "ArrivalTime        2017-06-21 22:06:29\n",
       "DepartureTime      2017-06-21 23:00:00\n",
       "DurationSeconds                   3211\n",
       "StreetMarker                     4527W\n",
       "Sign                              None\n",
       "Area                    West Melbourne\n",
       "StreetId                           839\n",
       "StreetName                 KING STREET\n",
       "BetweenStreet1           BATMAN STREET\n",
       "BetweenStreet2         JEFFCOTT STREET\n",
       "SideOfStreet                         5\n",
       "InViolation                      False\n",
       "VehiclePresent                   False\n",
       "Name: 339, dtype: object"
      ]
     },
     "execution_count": 31,
     "metadata": {},
     "output_type": "execute_result"
    }
   ],
   "source": [
    "sample_data"
   ]
  },
  {
   "cell_type": "code",
   "execution_count": 30,
   "metadata": {},
   "outputs": [
    {
     "data": {
      "text/plain": [
       "array([['21937',\n",
       "        'Clarendon Street between Wellington Parade and George Street',\n",
       "        '11947W', 5264, 'IAW1', 20201223122248, 144.982644328797,\n",
       "        -37.815125222171]], dtype=object)"
      ]
     },
     "execution_count": 30,
     "metadata": {},
     "output_type": "execute_result"
    }
   ],
   "source": [
    "data_obj.g_data.collect().filter(pl.col('bay_id') == b_data[int(device_id)]['BayID']).to_numpy()"
   ]
  },
  {
   "cell_type": "markdown",
   "metadata": {},
   "source": [
    "# sensor data and geo data are different"
   ]
  },
  {
   "cell_type": "code",
   "execution_count": 33,
   "metadata": {},
   "outputs": [
    {
     "data": {
      "text/plain": [
       "{'BayID': 5264,\n",
       " 'Description1': '3P MTR M-F 10:00-15:00',\n",
       " 'Description2': 'P10 M-F 1500-1600',\n",
       " 'Description3': '3P MTR M-F 19:00-20:30',\n",
       " 'Description4': '3P MTR SAT 7:30-20:30',\n",
       " 'Description5': nan,\n",
       " 'Description6': nan,\n",
       " 'DisabilityExt1': 360,\n",
       " 'DisabilityExt2': 20.0,\n",
       " 'DisabilityExt3': 360.0,\n",
       " 'DisabilityExt4': 360.0,\n",
       " 'DisabilityExt5': nan,\n",
       " 'DisabilityExt6': nan,\n",
       " 'Duration1': 180,\n",
       " 'Duration2': 10.0,\n",
       " 'Duration3': 180.0,\n",
       " 'Duration4': 180.0,\n",
       " 'Duration5': nan,\n",
       " 'Duration6': nan,\n",
       " 'EffectiveOnPH1': 0,\n",
       " 'EffectiveOnPH2': 0.0,\n",
       " 'EffectiveOnPH3': 0.0,\n",
       " 'EffectiveOnPH4': 0.0,\n",
       " 'EffectiveOnPH5': nan,\n",
       " 'EffectiveOnPH6': nan,\n",
       " 'EndTime1': '15:00:00',\n",
       " 'EndTime2': '16:00:00',\n",
       " 'EndTime3': '20:30:00',\n",
       " 'EndTime4': '20:30:00',\n",
       " 'EndTime5': nan,\n",
       " 'EndTime6': nan,\n",
       " 'Exemption1': nan,\n",
       " 'Exemption2': nan,\n",
       " 'Exemption3': nan,\n",
       " 'Exemption4': nan,\n",
       " 'Exemption5': nan,\n",
       " 'Exemption6': nan,\n",
       " 'FromDay1': 1,\n",
       " 'FromDay2': 1.0,\n",
       " 'FromDay3': 1.0,\n",
       " 'FromDay4': 6.0,\n",
       " 'FromDay5': nan,\n",
       " 'FromDay6': nan,\n",
       " 'StartTime1': '10:00:00',\n",
       " 'StartTime2': '15:00:00',\n",
       " 'StartTime3': '19:00:00',\n",
       " 'StartTime4': '07:30:00',\n",
       " 'StartTime5': nan,\n",
       " 'StartTime6': nan,\n",
       " 'ToDay1': 5,\n",
       " 'ToDay2': 5.0,\n",
       " 'ToDay3': 5.0,\n",
       " 'ToDay4': 6.0,\n",
       " 'ToDay5': nan,\n",
       " 'ToDay6': nan,\n",
       " 'TypeDesc1': '3P Meter',\n",
       " 'TypeDesc2': 'P 10 Mins',\n",
       " 'TypeDesc3': '3P Meter',\n",
       " 'TypeDesc4': '3P Meter',\n",
       " 'TypeDesc5': nan,\n",
       " 'TypeDesc6': nan}"
      ]
     },
     "execution_count": 33,
     "metadata": {},
     "output_type": "execute_result"
    }
   ],
   "source": [
    "b_data[int(device_id)]"
   ]
  },
  {
   "cell_type": "code",
   "execution_count": 16,
   "metadata": {},
   "outputs": [
    {
     "data": {
      "text/plain": [
       "[0.65949547290802,\n",
       " 0.04236556217074394,\n",
       " -0.8195937275886536,\n",
       " 0.17929166555404663,\n",
       " 0.9067535400390625,\n",
       " 0.25302648544311523,\n",
       " 0.7187158465385437,\n",
       " 0.2816624641418457,\n",
       " -0.029325049370527267,\n",
       " -0.42516499757766724,\n",
       " -0.9476456046104431,\n",
       " 0.7799811959266663,\n",
       " -1.0594756603240967,\n",
       " -0.21646928787231445,\n",
       " 0.8539930582046509,\n",
       " 1.1114743947982788,\n",
       " -0.22079038619995117,\n",
       " 0.04981782287359238,\n",
       " -0.5824868083000183,\n",
       " 0.6851041316986084,\n",
       " 0.607040524482727,\n",
       " -0.7498977184295654,\n",
       " 0.7843365669250488,\n",
       " -0.19353941082954407,\n",
       " -0.5831809043884277,\n",
       " -0.3065613806247711,\n",
       " 0.7278852462768555,\n",
       " -0.002504889154806733,\n",
       " -0.5381037592887878,\n",
       " 0.46480509638786316,\n",
       " 0.7337797284126282,\n",
       " -0.7526929974555969]"
      ]
     },
     "execution_count": 16,
     "metadata": {},
     "output_type": "execute_result"
    }
   ],
   "source": [
    "device_emb[device_id]"
   ]
  }
 ],
 "metadata": {
  "kernelspec": {
   "display_name": "Python 3.8.10 64-bit",
   "language": "python",
   "name": "python3"
  },
  "language_info": {
   "codemirror_mode": {
    "name": "ipython",
    "version": 3
   },
   "file_extension": ".py",
   "mimetype": "text/x-python",
   "name": "python",
   "nbconvert_exporter": "python",
   "pygments_lexer": "ipython3",
   "version": "3.8.10"
  },
  "orig_nbformat": 4,
  "vscode": {
   "interpreter": {
    "hash": "916dbcbb3f70747c44a77c7bcd40155683ae19c65e1c03b4aa3499c5328201f1"
   }
  }
 },
 "nbformat": 4,
 "nbformat_minor": 2
}
