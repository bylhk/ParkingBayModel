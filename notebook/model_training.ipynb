{
 "cells": [
  {
   "cell_type": "code",
   "execution_count": 1,
   "metadata": {},
   "outputs": [],
   "source": [
    "import os\n",
    "import sys\n",
    "sys.path.insert(0, os.path.join('..', 'app'))"
   ]
  },
  {
   "cell_type": "code",
   "execution_count": 2,
   "metadata": {},
   "outputs": [],
   "source": [
    "import csv\n",
    "import json\n",
    "import numpy as np\n",
    "import os\n",
    "import polars as pl\n",
    "\n",
    "import glob\n",
    "import pandas as pd\n",
    "from random import randrange\n",
    "from datetime import datetime, timedelta\n",
    "\n",
    "from lib.data import DataObject, load_json\n",
    "from config.data import *\n",
    "from config.graph import *\n",
    "\n",
    "DATA_DIR = '../app/data'"
   ]
  },
  {
   "cell_type": "code",
   "execution_count": 3,
   "metadata": {},
   "outputs": [],
   "source": [
    "data_obj = DataObject(data_dir=DATA_DIR)"
   ]
  },
  {
   "cell_type": "code",
   "execution_count": 4,
   "metadata": {},
   "outputs": [],
   "source": [
    "device_emb = load_json(os.path.join(DATA_DIR, EMB_JSON_NAME))"
   ]
  },
  {
   "cell_type": "code",
   "execution_count": 5,
   "metadata": {},
   "outputs": [],
   "source": [
    "def random_date(start, end):\n",
    "    delta = end + timedelta(days=1) - start\n",
    "    return (start + timedelta(days=randrange(delta.days))).date()\n",
    "\n",
    "def random_time(start, end):\n",
    "    delta = end - start\n",
    "    return (start + timedelta(seconds=randrange(delta.seconds)))\n",
    "\n",
    "def spark_s_data():\n",
    "    from pyspark.sql import SparkSession, functions as f\n",
    "\n",
    "    spark = SparkSession \\\n",
    "        .builder \\\n",
    "        .appName(\"parking\") \\\n",
    "        .getOrCreate()\n",
    "\n",
    "    g_df = spark.read.csv(os.path.join(DATA_DIR, G_DATA_NAME_CSV), header=True)\n",
    "    g_df = g_df.select(f.col('bay_id').alias('BayID')).distinct()\n",
    "\n",
    "    b_df = spark.read.csv(os.path.join(DATA_DIR, B_DATA_NAME), header=True)\n",
    "    b_df = b_df.select(['BayID', 'DeviceID']).distinct()\n",
    "\n",
    "    b_df = b_df.join(g_df, on='BayID', how='inner').select(f.col('DeviceID').alias('DeviceId'))\n",
    "\n",
    "    df = spark.read.csv(os.path.join(DATA_DIR, S_DATA_NAME), header=True)\\\n",
    "            .join(b_df, on='DeviceId', how='inner')\\\n",
    "            .withColumn(\"ArrivalTime\", f.to_timestamp('ArrivalTime', 'MM/dd/yyyy h:m:s a'))\\\n",
    "            .withColumn(\"DepartureTime\", f.to_timestamp('DepartureTime', 'MM/dd/yyyy h:m:s a'))\\\n",
    "            .withColumn(\"ArrivalDate\", f.to_timestamp('DepartureTime', 'MM/dd/yyyy h:m:s a').cast('Date'))\n",
    "    df = df.toDF(*[col.replace(' ', '') for col in df.columns])\n",
    "    df.coalesce(1).write.partitionBy('ArrivalDate').mode('overwrite').format(\"parquet\").save(os.path.join(DATA_DIR, S_DATA_TABLE))\n",
    "\n",
    "# spark_s_data()"
   ]
  },
  {
   "cell_type": "code",
   "execution_count": 6,
   "metadata": {},
   "outputs": [],
   "source": [
    "b_data = pd.read_csv(os.path.join(DATA_DIR, B_DATA_NAME)).set_index('DeviceID').to_dict('index')"
   ]
  },
  {
   "cell_type": "code",
   "execution_count": 7,
   "metadata": {},
   "outputs": [],
   "source": [
    "start = datetime(year=2017, month=1, day=1)\n",
    "end = datetime(year=2017, month=12, day=31)\n",
    "\n",
    "batch_data_path = glob.glob(os.path.join(DATA_DIR, S_DATA_TABLE, f'ArrivalDate={random_date(start, end)}', '*.parquet'))[0]\n",
    "batch_data = pd.read_parquet(batch_data_path)"
   ]
  },
  {
   "cell_type": "code",
   "execution_count": 8,
   "metadata": {},
   "outputs": [],
   "source": [
    "sample_idx = np.random.randint(batch_data.shape[0])\n",
    "sample_data = batch_data.loc[sample_idx, :]\n",
    "sample_dt = random_time(sample_data['ArrivalTime'], sample_data['DepartureTime'])\n",
    "\n",
    "weekday = sample_dt.dayofweek # 0 = Mon, 7 = Sun\n",
    "duration = sample_data['DurationSeconds']\n",
    "device_id = sample_data['DeviceId']\n",
    "\n",
    "is_violation = sample_data['InViolation']\n",
    "is_use = sample_data['VehiclePresent']"
   ]
  },
  {
   "cell_type": "code",
   "execution_count": 9,
   "metadata": {},
   "outputs": [
    {
     "data": {
      "text/plain": [
       "'21867'"
      ]
     },
     "execution_count": 9,
     "metadata": {},
     "output_type": "execute_result"
    }
   ],
   "source": [
    "device_id"
   ]
  },
  {
   "cell_type": "code",
   "execution_count": 31,
   "metadata": {},
   "outputs": [
    {
     "data": {
      "text/plain": [
       "DeviceId                         21867\n",
       "ArrivalTime        2017-06-21 22:06:29\n",
       "DepartureTime      2017-06-21 23:00:00\n",
       "DurationSeconds                   3211\n",
       "StreetMarker                     4527W\n",
       "Sign                              None\n",
       "Area                    West Melbourne\n",
       "StreetId                           839\n",
       "StreetName                 KING STREET\n",
       "BetweenStreet1           BATMAN STREET\n",
       "BetweenStreet2         JEFFCOTT STREET\n",
       "SideOfStreet                         5\n",
       "InViolation                      False\n",
       "VehiclePresent                   False\n",
       "Name: 339, dtype: object"
      ]
     },
     "execution_count": 31,
     "metadata": {},
     "output_type": "execute_result"
    }
   ],
   "source": [
    "sample_data"
   ]
  },
  {
   "cell_type": "code",
   "execution_count": 30,
   "metadata": {},
   "outputs": [
    {
     "data": {
      "text/plain": [
       "array([['21937',\n",
       "        'Clarendon Street between Wellington Parade and George Street',\n",
       "        '11947W', 5264, 'IAW1', 20201223122248, 144.982644328797,\n",
       "        -37.815125222171]], dtype=object)"
      ]
     },
     "execution_count": 30,
     "metadata": {},
     "output_type": "execute_result"
    }
   ],
   "source": [
    "data_obj.g_data.collect().filter(pl.col('bay_id') == b_data[int(device_id)]['BayID']).to_numpy()"
   ]
  },
  {
   "cell_type": "markdown",
   "metadata": {},
   "source": [
    "# sensor data and geo data are different"
   ]
  },
  {
   "cell_type": "code",
   "execution_count": 33,
   "metadata": {},
   "outputs": [
    {
     "data": {
      "text/plain": [
       "{'BayID': 5264,\n",
       " 'Description1': '3P MTR M-F 10:00-15:00',\n",
       " 'Description2': 'P10 M-F 1500-1600',\n",
       " 'Description3': '3P MTR M-F 19:00-20:30',\n",
       " 'Description4': '3P MTR SAT 7:30-20:30',\n",
       " 'Description5': nan,\n",
       " 'Description6': nan,\n",
       " 'DisabilityExt1': 360,\n",
       " 'DisabilityExt2': 20.0,\n",
       " 'DisabilityExt3': 360.0,\n",
       " 'DisabilityExt4': 360.0,\n",
       " 'DisabilityExt5': nan,\n",
       " 'DisabilityExt6': nan,\n",
       " 'Duration1': 180,\n",
       " 'Duration2': 10.0,\n",
       " 'Duration3': 180.0,\n",
       " 'Duration4': 180.0,\n",
       " 'Duration5': nan,\n",
       " 'Duration6': nan,\n",
       " 'EffectiveOnPH1': 0,\n",
       " 'EffectiveOnPH2': 0.0,\n",
       " 'EffectiveOnPH3': 0.0,\n",
       " 'EffectiveOnPH4': 0.0,\n",
       " 'EffectiveOnPH5': nan,\n",
       " 'EffectiveOnPH6': nan,\n",
       " 'EndTime1': '15:00:00',\n",
       " 'EndTime2': '16:00:00',\n",
       " 'EndTime3': '20:30:00',\n",
       " 'EndTime4': '20:30:00',\n",
       " 'EndTime5': nan,\n",
       " 'EndTime6': nan,\n",
       " 'Exemption1': nan,\n",
       " 'Exemption2': nan,\n",
       " 'Exemption3': nan,\n",
       " 'Exemption4': nan,\n",
       " 'Exemption5': nan,\n",
       " 'Exemption6': nan,\n",
       " 'FromDay1': 1,\n",
       " 'FromDay2': 1.0,\n",
       " 'FromDay3': 1.0,\n",
       " 'FromDay4': 6.0,\n",
       " 'FromDay5': nan,\n",
       " 'FromDay6': nan,\n",
       " 'StartTime1': '10:00:00',\n",
       " 'StartTime2': '15:00:00',\n",
       " 'StartTime3': '19:00:00',\n",
       " 'StartTime4': '07:30:00',\n",
       " 'StartTime5': nan,\n",
       " 'StartTime6': nan,\n",
       " 'ToDay1': 5,\n",
       " 'ToDay2': 5.0,\n",
       " 'ToDay3': 5.0,\n",
       " 'ToDay4': 6.0,\n",
       " 'ToDay5': nan,\n",
       " 'ToDay6': nan,\n",
       " 'TypeDesc1': '3P Meter',\n",
       " 'TypeDesc2': 'P 10 Mins',\n",
       " 'TypeDesc3': '3P Meter',\n",
       " 'TypeDesc4': '3P Meter',\n",
       " 'TypeDesc5': nan,\n",
       " 'TypeDesc6': nan}"
      ]
     },
     "execution_count": 33,
     "metadata": {},
     "output_type": "execute_result"
    }
   ],
   "source": [
    "b_data[int(device_id)]"
   ]
  },
  {
   "cell_type": "code",
   "execution_count": 16,
   "metadata": {},
   "outputs": [
    {
     "data": {
      "text/plain": [
       "[0.65949547290802,\n",
       " 0.04236556217074394,\n",
       " -0.8195937275886536,\n",
       " 0.17929166555404663,\n",
       " 0.9067535400390625,\n",
       " 0.25302648544311523,\n",
       " 0.7187158465385437,\n",
       " 0.2816624641418457,\n",
       " -0.029325049370527267,\n",
       " -0.42516499757766724,\n",
       " -0.9476456046104431,\n",
       " 0.7799811959266663,\n",
       " -1.0594756603240967,\n",
       " -0.21646928787231445,\n",
       " 0.8539930582046509,\n",
       " 1.1114743947982788,\n",
       " -0.22079038619995117,\n",
       " 0.04981782287359238,\n",
       " -0.5824868083000183,\n",
       " 0.6851041316986084,\n",
       " 0.607040524482727,\n",
       " -0.7498977184295654,\n",
       " 0.7843365669250488,\n",
       " -0.19353941082954407,\n",
       " -0.5831809043884277,\n",
       " -0.3065613806247711,\n",
       " 0.7278852462768555,\n",
       " -0.002504889154806733,\n",
       " -0.5381037592887878,\n",
       " 0.46480509638786316,\n",
       " 0.7337797284126282,\n",
       " -0.7526929974555969]"
      ]
     },
     "execution_count": 16,
     "metadata": {},
     "output_type": "execute_result"
    }
   ],
   "source": [
    "device_emb[device_id]"
   ]
  }
 ],
 "metadata": {
  "kernelspec": {
   "display_name": "Python 3.8.10 64-bit",
   "language": "python",
   "name": "python3"
  },
  "language_info": {
   "codemirror_mode": {
    "name": "ipython",
    "version": 3
   },
   "file_extension": ".py",
   "mimetype": "text/x-python",
   "name": "python",
   "nbconvert_exporter": "python",
   "pygments_lexer": "ipython3",
   "version": "3.8.10"
  },
  "orig_nbformat": 4,
  "vscode": {
   "interpreter": {
    "hash": "916dbcbb3f70747c44a77c7bcd40155683ae19c65e1c03b4aa3499c5328201f1"
   }
  }
 },
 "nbformat": 4,
 "nbformat_minor": 2
}
