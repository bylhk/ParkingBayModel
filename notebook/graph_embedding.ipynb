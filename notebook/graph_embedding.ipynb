{
 "cells": [
  {
   "cell_type": "code",
   "execution_count": null,
   "metadata": {},
   "outputs": [],
   "source": [
    "import os\n",
    "import sys\n",
    "sys.path.insert(0, os.path.join('..', 'app'))"
   ]
  },
  {
   "cell_type": "code",
   "execution_count": null,
   "metadata": {},
   "outputs": [],
   "source": [
    "from lib.data import DataObject\n",
    "from lib.graph import df_to_csr, save_csr, csr_to_emb\n",
    "from config.data import *\n",
    "from config.graph import *\n",
    "\n",
    "DATA_DIR = '../app/data'"
   ]
  },
  {
   "cell_type": "code",
   "execution_count": null,
   "metadata": {},
   "outputs": [],
   "source": [
    "data_obj = DataObject(data_dir=DATA_DIR)"
   ]
  },
  {
   "cell_type": "code",
   "execution_count": null,
   "metadata": {},
   "outputs": [],
   "source": [
    "_bay_df = data_obj.g_data.join(data_obj.b_data, left_on='bay_id', right_on='BayID')\n",
    "csr, node_index, node_id = df_to_csr(_bay_df, CSR_RELATIONSHIP)\n",
    "save_csr(csr, node_index, DATA_DIR, CSR_GRAPH_NAME, CSR_INDEX_NAME)"
   ]
  },
  {
   "cell_type": "code",
   "execution_count": null,
   "metadata": {},
   "outputs": [],
   "source": [
    "device_emb = csr_to_emb(DATA_DIR, CSR_GRAPH_NAME, CSR_INDEX_NAME, CSR_DATA_TYPES, EMB_JSON_NAME)"
   ]
  }
 ],
 "metadata": {
  "kernelspec": {
   "display_name": "Python 3.8.10 64-bit",
   "language": "python",
   "name": "python3"
  },
  "language_info": {
   "name": "python",
   "version": "3.8.10"
  },
  "orig_nbformat": 4,
  "vscode": {
   "interpreter": {
    "hash": "916dbcbb3f70747c44a77c7bcd40155683ae19c65e1c03b4aa3499c5328201f1"
   }
  }
 },
 "nbformat": 4,
 "nbformat_minor": 2
}
